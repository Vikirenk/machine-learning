{
 "cells": [
  {
   "cell_type": "code",
   "execution_count": 35,
   "id": "51bfce95-502b-4004-8551-8954fbd9222b",
   "metadata": {},
   "outputs": [],
   "source": [
    "import pandas as pd\n",
    "import numpy as np\n",
    "import math"
   ]
  },
  {
   "cell_type": "code",
   "execution_count": 9,
   "id": "8b006c4a-a760-4dd6-805e-0bc9e704f1af",
   "metadata": {},
   "outputs": [
    {
     "name": "stdout",
     "output_type": "stream",
     "text": [
      "[   1    8   27   64  125  216  343  512  729 1000]\n"
     ]
    }
   ],
   "source": [
    "#1. Створіть одновимірний масив (вектор) з числами, які є кубами натуральних чисел, починаючи з 1, та виведіть його значення.\n",
    "\n",
    "cubes = np.array([n**3 for n in range(1, 11)])\n",
    "print(cubes)"
   ]
  },
  {
   "cell_type": "code",
   "execution_count": 8,
   "id": "7ef97942-406c-42eb-b209-50a779329b76",
   "metadata": {},
   "outputs": [
    {
     "name": "stdout",
     "output_type": "stream",
     "text": [
      "[[     1      2      6]\n",
      " [    24    120    720]\n",
      " [  5040  40320 362880]]\n"
     ]
    }
   ],
   "source": [
    "#2. Створіть двовимірний масив (матрицю) розміром 3x3, заповніть його значеннями факторіалів перших натуральних чисел.\n",
    "\n",
    "factorials = np.array([[math.factorial(i) for i in range(1, 10)]]).reshape(3, 3)\n",
    "print(factorials)"
   ]
  },
  {
   "cell_type": "code",
   "execution_count": 24,
   "id": "dac9c851-8f0f-44c9-8f8b-0025fa08deeb",
   "metadata": {},
   "outputs": [
    {
     "name": "stdout",
     "output_type": "stream",
     "text": [
      "Масив:\n",
      " [[ 2  1  5]\n",
      " [ 0  3  4]\n",
      " [ 4 -3 -4]]\n",
      "Сума модулів кожного рядка: [ 8  7 11]\n"
     ]
    }
   ],
   "source": [
    "#3. Створіть масив розміром 3x3, заповніть його випадковими цілими числами від -5 до 5 та знайдіть суму модулів кожного рядка\n",
    "\n",
    "random_matrix = np.random.randint(-5, 6, (3, 3))\n",
    "sum_of_abs_rows = np.sum(np.abs(random_matrix), axis=1)\n",
    "\n",
    "print(\"Масив:\\n\", random_matrix)\n",
    "print(\"Сума модулів кожного рядка:\", sum_of_abs_rows)"
   ]
  },
  {
   "cell_type": "code",
   "execution_count": 23,
   "id": "2c2ef036-e55e-444c-9e8c-7980794fbed6",
   "metadata": {},
   "outputs": [
    {
     "name": "stdout",
     "output_type": "stream",
     "text": [
      "Масив:\n",
      " [[0.38937654 0.23561953 0.90702792]\n",
      " [0.35884304 0.4637925  0.28450736]\n",
      " [0.78384103 0.96655301 0.27698214]]\n",
      "Середнє геометричне всіх елементів: 0.4544562726956304\n"
     ]
    }
   ],
   "source": [
    "#4. Створіть масив розміром 3x3, заповніть його випадковими дійсними числами в діапазоні від 0 до 1 та знайдіть середнє геометричне всіх елементів.\n",
    "\n",
    "random_matrix = np.random.rand(3, 3)\n",
    "geometric_mean = np.prod(random_matrix)**(1/random_matrix.size)\n",
    "\n",
    "print(\"Масив:\\n\", random_matrix)\n",
    "print(\"Середнє геометричне всіх елементів:\", geometric_mean)"
   ]
  },
  {
   "cell_type": "code",
   "execution_count": 22,
   "id": "0e0d33b1-a3b1-4284-809c-584ec5c9ef24",
   "metadata": {},
   "outputs": [
    {
     "name": "stdout",
     "output_type": "stream",
     "text": [
      "Перший масив: [0.6148093  0.10864292 0.6286218  0.37554949 0.28668123]\n",
      "Другий масив: [0.70674011 0.08833315 0.28580849 0.96364103 0.55093738]\n",
      "Додавання: [1.32154941 0.19697607 0.91443029 1.33919052 0.83761861]\n",
      "Віднімання: [-0.09193081  0.02030977  0.34281332 -0.58809155 -0.26425615]\n",
      "Множення: [0.43451039 0.00959677 0.17966544 0.3618949  0.15794341]\n"
     ]
    }
   ],
   "source": [
    "#5. Створіть два одновимірних масиви розміром 5, заповніть їх випадковими дійсними числами від 0 до 1 та виконайте на них поелементні операції додавання, віднімання та множення\n",
    "\n",
    "array1 = np.random.rand(5)\n",
    "array2 = np.random.rand(5)\n",
    "addition = array1 + array2\n",
    "subtraction = array1 - array2\n",
    "multiplication = array1 * array2\n",
    "\n",
    "print(\"Перший масив:\", array1)\n",
    "print(\"Другий масив:\", array2)\n",
    "print(\"Додавання:\", addition)\n",
    "print(\"Віднімання:\", subtraction)\n",
    "print(\"Множення:\", multiplication)"
   ]
  },
  {
   "cell_type": "code",
   "execution_count": 21,
   "id": "83597129-b9b3-49fc-8cc2-724323735b86",
   "metadata": {},
   "outputs": [
    {
     "name": "stdout",
     "output_type": "stream",
     "text": [
      "Перша матриця:\n",
      " [[3 3 1]\n",
      " [2 5 5]\n",
      " [5 4 2]]\n",
      "Друга матриця:\n",
      " [[5 4 1]\n",
      " [3 1 5]\n",
      " [5 1 4]]\n",
      "Добуток матриць:\n",
      " [[29 16 22]\n",
      " [50 18 47]\n",
      " [47 26 33]]\n"
     ]
    }
   ],
   "source": [
    "#6. Створіть дві матриці 3x3, заповніть їх довільними цілими числами від 1 до 5 та знайдіть їх добуток\n",
    "\n",
    "matrix1 = np.random.randint(1, 6, (3, 3))\n",
    "matrix2 = np.random.randint(1, 6, (3, 3))\n",
    "product = np.dot(matrix1, matrix2)\n",
    "\n",
    "print(\"Перша матриця:\\n\", matrix1)\n",
    "print(\"Друга матриця:\\n\", matrix2)\n",
    "print(\"Добуток матриць:\\n\", product)"
   ]
  },
  {
   "cell_type": "code",
   "execution_count": 20,
   "id": "f07d2176-b6a5-4e63-b9a3-f4ad33e6040d",
   "metadata": {},
   "outputs": [
    {
     "name": "stdout",
     "output_type": "stream",
     "text": [
      "Перша матриця (2x3):\n",
      " [[5 5 5]\n",
      " [1 2 3]]\n",
      "Друга матриця (3x2):\n",
      " [[2 5]\n",
      " [1 1]\n",
      " [3 3]]\n",
      "Добуток матриць (2x2):\n",
      " [[30 45]\n",
      " [13 16]]\n"
     ]
    }
   ],
   "source": [
    "#7. Створіть дві матриці розміром 2x3 та 3x2, заповніть їх випадковими цілими числами в діапазоні від 1 до 5 та перемножте їх між собою\n",
    "\n",
    "matrix1 = np.random.randint(1, 6, (2, 3))\n",
    "matrix2 = np.random.randint(1, 6, (3, 2))\n",
    "product = np.dot(matrix1, matrix2)\n",
    "\n",
    "print(\"Перша матриця (2x3):\\n\", matrix1)\n",
    "print(\"Друга матриця (3x2):\\n\", matrix2)\n",
    "print(\"Добуток матриць (2x2):\\n\", product)"
   ]
  },
  {
   "cell_type": "code",
   "execution_count": 26,
   "id": "d55a2d11-6962-47df-acfa-d6c66d8d9188",
   "metadata": {},
   "outputs": [
    {
     "name": "stdout",
     "output_type": "stream",
     "text": [
      "Матриця (3x3):\n",
      " [[ 9 12  7]\n",
      " [ 3  9 14]\n",
      " [15  1 10]]\n",
      "Обернена матриця (3x3):\n",
      " [[ 0.03958333 -0.05885417  0.0546875 ]\n",
      " [ 0.09375    -0.0078125  -0.0546875 ]\n",
      " [-0.06875     0.0890625   0.0234375 ]]\n"
     ]
    }
   ],
   "source": [
    "#8. Створіть матрицю розміром 3x3, заповніть її випадковими цілими числами в діапазоні від 1 до 15 та знайдіть її обернену матрицю.\n",
    "\n",
    "matrix = np.random.randint(1, 16, (3, 3))\n",
    "inverse_matrix = np.linalg.inv(matrix)\n",
    "\n",
    "print(\"Матриця (3x3):\\n\", matrix)\n",
    "print(\"Обернена матриця (3x3):\\n\", inverse_matrix)"
   ]
  },
  {
   "cell_type": "code",
   "execution_count": 27,
   "id": "4c08562e-8b2e-4a84-9e4c-71adf8a079f7",
   "metadata": {},
   "outputs": [
    {
     "name": "stdout",
     "output_type": "stream",
     "text": [
      "Оригінальна матриця (4x4):\n",
      " [[7.28416289 6.86453844 1.03161333 2.07385788]\n",
      " [6.15512128 0.28564055 4.08525117 5.11780619]\n",
      " [4.05046548 6.4688762  7.2034015  2.38500841]\n",
      " [1.45989319 4.16609024 4.92187765 7.59076577]]\n",
      "Транспонована матриця (4x4):\n",
      " [[7.28416289 6.15512128 4.05046548 1.45989319]\n",
      " [6.86453844 0.28564055 6.4688762  4.16609024]\n",
      " [1.03161333 4.08525117 7.2034015  4.92187765]\n",
      " [2.07385788 5.11780619 2.38500841 7.59076577]]\n"
     ]
    }
   ],
   "source": [
    "#9. Створіть матрицю розміром 4x4, заповніть її випадковими дійсними числами в діапазоні від 0 до 10 та транспонуйте її.\n",
    "\n",
    "matrix = np.random.rand(4, 4) * 10\n",
    "transposed_matrix = np.transpose(matrix)\n",
    "\n",
    "print(\"Оригінальна матриця (4x4):\\n\", matrix)\n",
    "print(\"Транспонована матриця (4x4):\\n\", transposed_matrix)"
   ]
  },
  {
   "cell_type": "code",
   "execution_count": 28,
   "id": "b5c57d12-84ce-43ed-9666-55123fbb18bd",
   "metadata": {},
   "outputs": [
    {
     "name": "stdout",
     "output_type": "stream",
     "text": [
      "Матриця (3x4):\n",
      " [[0.65967907 0.33729707 0.0199402  0.01047094]\n",
      " [0.63723717 0.18418302 0.68744494 0.4299703 ]\n",
      " [0.19906358 0.93223888 0.67818491 0.38879313]]\n",
      "Вектор (4x1):\n",
      " [[0.93060653]\n",
      " [0.33543633]\n",
      " [0.29098529]\n",
      " [0.59649247]]\n",
      "Добуток матриці на вектор (3x1):\n",
      " [[0.73909149]\n",
      " [1.11130916]\n",
      " [0.92721067]]\n"
     ]
    }
   ],
   "source": [
    "#10. Створіть матрицю розміром 3x4 та вектор розміром 4x1, заповніть матрицю випадковими дійсними числами від 0 до 1, а вектор - випадковими дійсними числами від 0 до 1, і знайдіть добуток матриці на вектор.\n",
    "\n",
    "matrix = np.random.rand(3, 4)\n",
    "vector = np.random.rand(4, 1)\n",
    "product = np.dot(matrix, vector)\n",
    "\n",
    "print(\"Матриця (3x4):\\n\", matrix)\n",
    "print(\"Вектор (4x1):\\n\", vector)\n",
    "print(\"Добуток матриці на вектор (3x1):\\n\", product)"
   ]
  },
  {
   "cell_type": "code",
   "execution_count": 29,
   "id": "5fc2513e-362d-4442-a1d8-57a3041c5d66",
   "metadata": {},
   "outputs": [
    {
     "name": "stdout",
     "output_type": "stream",
     "text": [
      "Матриця:\n",
      "[[0.33299378 0.29298869 0.26744738]\n",
      " [0.17331927 0.35899277 0.05407028]]\n",
      "\n",
      "Вектор:\n",
      "[[0.41282495]\n",
      " [0.62085905]\n",
      " [0.85668323]]\n",
      "\n",
      "Добуток матриці на вектор:\n",
      "[[0.5484905 ]\n",
      " [0.34075553]]\n"
     ]
    }
   ],
   "source": [
    "#11. Створіть матрицю розміром 2x3 та вектор розміром 3x1, заповніть матрицю випадковими дійсними числами від 0 до 1, а вектор - випадковими дійсними числами від 0 до 1, і знайдіть добуток матриці на вектор\n",
    "\n",
    "matrix = np.random.rand(2, 3)\n",
    "vector = np.random.rand(3, 1)\n",
    "result = np.dot(matrix, vector)\n",
    "\n",
    "print(\"Матриця:\")\n",
    "print(matrix)\n",
    "print(\"\\nВектор:\")\n",
    "print(vector)\n",
    "print(\"\\nДобуток матриці на вектор:\")\n",
    "print(result)"
   ]
  },
  {
   "cell_type": "code",
   "execution_count": 30,
   "id": "fafbb254-11b0-4b20-9fa3-904e8f56ab50",
   "metadata": {},
   "outputs": [
    {
     "name": "stdout",
     "output_type": "stream",
     "text": [
      "Матриця 1:\n",
      "[[2 4 8]\n",
      " [1 4 5]\n",
      " [5 9 6]]\n",
      "Сума діагоналі Матриці 1: 12\n",
      "\n",
      "Матриця 2:\n",
      "[[ 6  5 10]\n",
      " [ 4  4 10]\n",
      " [ 6  3  3]]\n",
      "Сума діагоналі Матриці 2: 13\n"
     ]
    }
   ],
   "source": [
    "#12. Створіть дві матриці розміром 3x3, заповніть їх випадковими цілими числами в діапазоні від 1 до 10 та знайдіть суму елементів діагоналі обох матриць (окремо).\n",
    "\n",
    "matrix1 = np.random.randint(1, 11, size=(3, 3))\n",
    "matrix2 = np.random.randint(1, 11, size=(3, 3))\n",
    "\n",
    "sum_diag_matrix1 = np.trace(matrix1)\n",
    "sum_diag_matrix2 = np.trace(matrix2)\n",
    "\n",
    "print(\"Матриця 1:\")\n",
    "print(matrix1)\n",
    "print(\"Сума діагоналі Матриці 1:\", sum_diag_matrix1)\n",
    "print(\"\\nМатриця 2:\")\n",
    "print(matrix2)\n",
    "print(\"Сума діагоналі Матриці 2:\", sum_diag_matrix2)"
   ]
  },
  {
   "cell_type": "code",
   "execution_count": 31,
   "id": "b31bb801-8d17-4d44-bbcd-a8515a45fc95",
   "metadata": {},
   "outputs": [
    {
     "name": "stdout",
     "output_type": "stream",
     "text": [
      "Матриця 1:\n",
      "[[-5 -1]\n",
      " [-4  2]]\n",
      "Добуток елементів Матриці 1: -40\n",
      "\n",
      "Матриця 2:\n",
      "[[-5  3]\n",
      " [ 1 -4]]\n",
      "Добуток елементів Матриці 2: 60\n"
     ]
    }
   ],
   "source": [
    "#13. Створіть дві матриці розміром 2x2, заповніть їх випадковими цілими числами в діапазоні від -5 до 5 та знайдіть добуток їх елементів\n",
    "\n",
    "matrix1 = np.random.randint(-5, 6, size=(2, 2))\n",
    "matrix2 = np.random.randint(-5, 6, size=(2, 2))\n",
    "product_matrix1 = np.prod(matrix1)\n",
    "product_matrix2 = np.prod(matrix2)\n",
    "\n",
    "print(\"Матриця 1:\")\n",
    "print(matrix1)\n",
    "print(\"Добуток елементів Матриці 1:\", product_matrix1)\n",
    "print(\"\\nМатриця 2:\")\n",
    "print(matrix2)\n",
    "print(\"Добуток елементів Матриці 2:\", product_matrix2)"
   ]
  },
  {
   "cell_type": "code",
   "execution_count": 33,
   "id": "615b45f7-b107-40a7-865d-7939da87bb37",
   "metadata": {},
   "outputs": [
    {
     "name": "stdout",
     "output_type": "stream",
     "text": [
      "Матриця:\n",
      "[[10  6  5]\n",
      " [ 1  2  6]\n",
      " [ 8  4  2]]\n",
      "Найбільший елемент матриці: 10\n"
     ]
    }
   ],
   "source": [
    "#14. Створіть матрицю розміром 3x3, заповніть її випадковими цілими числами в діапазоні від 1 до 10 та знайдіть найбільший елемент матриці.\n",
    "\n",
    "matrix = np.random.randint(1, 11, size=(3, 3))\n",
    "max_element = np.max(matrix)\n",
    "\n",
    "print(\"Матриця:\")\n",
    "print(matrix)\n",
    "print(\"Найбільший елемент матриці:\", max_element)"
   ]
  },
  {
   "cell_type": "code",
   "execution_count": 34,
   "id": "53c57659-627c-4918-a84c-4c0a3d3a9c04",
   "metadata": {},
   "outputs": [
    {
     "name": "stdout",
     "output_type": "stream",
     "text": [
      "Матриця:\n",
      "[[ 0.89985301 -0.97136939  0.96070187  0.21768315]\n",
      " [ 0.65863574  0.43112903 -0.22126177  0.87668919]\n",
      " [-0.35969177 -0.59367373  0.61034587  0.76851737]\n",
      " [ 0.89137603  0.75180352 -0.65117265  0.63955164]]\n",
      "\n",
      "Вектор-стовпчик з кількістю від'ємних елементів в кожному рядку:\n",
      "[[1]\n",
      " [1]\n",
      " [2]\n",
      " [1]]\n"
     ]
    }
   ],
   "source": [
    "#15. Створіть матрицю розміром 4x4, заповніть її випадковими дійсними числами в діапазоні від -1 до 1 та знайдіть вектор-стовпчик, що містить кількість від'ємних елементів в кожному рядку матриці.\n",
    "\n",
    "matrix = np.random.uniform(-1, 1, (4, 4))\n",
    "negative_counts = np.sum(matrix < 0, axis=1).reshape(4, 1)\n",
    "\n",
    "print(\"Матриця:\")\n",
    "print(matrix)\n",
    "print(\"\\nВектор-стовпчик з кількістю від'ємних елементів в кожному рядку:\")\n",
    "print(negative_counts)"
   ]
  },
  {
   "cell_type": "code",
   "execution_count": null,
   "id": "fc938b3c-bc50-4b5d-bba6-4089de5b0f93",
   "metadata": {},
   "outputs": [],
   "source": [
    "# У ході виконання лабораторної роботи ми ознайомилися з основними операціями над матрицями в Python за допомогою бібліотеки NumPy. Ми навчилися створювати матриці різних розмірів і типів, заповнювати їх випадковими числами, виконувати різні арифметичні операції, такі як множення матриць, знаходження добутку елементів, суми діагональних елементів, та обчислення кількості від'ємних значень у матриці."
   ]
  }
 ],
 "metadata": {
  "kernelspec": {
   "display_name": "Python 3 (ipykernel)",
   "language": "python",
   "name": "python3"
  },
  "language_info": {
   "codemirror_mode": {
    "name": "ipython",
    "version": 3
   },
   "file_extension": ".py",
   "mimetype": "text/x-python",
   "name": "python",
   "nbconvert_exporter": "python",
   "pygments_lexer": "ipython3",
   "version": "3.9.0"
  }
 },
 "nbformat": 4,
 "nbformat_minor": 5
}
